{
 "cells": [
  {
   "cell_type": "code",
   "execution_count": 4,
   "id": "8a99a770",
   "metadata": {},
   "outputs": [],
   "source": [
    "# install all the requirements\n",
    "# pip install request\n",
    "# pip install bs4\n",
    "# pip install html5lib\n",
    "import requests\n",
    "from bs4 import BeautifulSoup"
   ]
  },
  {
   "cell_type": "code",
   "execution_count": null,
   "id": "0d05de55",
   "metadata": {},
   "outputs": [],
   "source": [
    "url=\"https://www.codewithharry.com/\""
   ]
  }
 ],
 "metadata": {
  "kernelspec": {
   "display_name": "Python 3 (ipykernel)",
   "language": "python",
   "name": "python3"
  },
  "language_info": {
   "codemirror_mode": {
    "name": "ipython",
    "version": 3
   },
   "file_extension": ".py",
   "mimetype": "text/x-python",
   "name": "python",
   "nbconvert_exporter": "python",
   "pygments_lexer": "ipython3",
   "version": "3.9.7"
  }
 },
 "nbformat": 4,
 "nbformat_minor": 5
}
